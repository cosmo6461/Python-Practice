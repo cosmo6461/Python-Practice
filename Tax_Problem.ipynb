{
  "nbformat": 4,
  "nbformat_minor": 0,
  "metadata": {
    "colab": {
      "provenance": [],
      "authorship_tag": "ABX9TyNt92k0WvaTfjRycfBw4H14",
      "include_colab_link": true
    },
    "kernelspec": {
      "name": "python3",
      "display_name": "Python 3"
    },
    "language_info": {
      "name": "python"
    }
  },
  "cells": [
    {
      "cell_type": "markdown",
      "metadata": {
        "id": "view-in-github",
        "colab_type": "text"
      },
      "source": [
        "<a href=\"https://colab.research.google.com/github/cosmo6461/Python-Practice/blob/main/Tax_Problem.ipynb\" target=\"_parent\"><img src=\"https://colab.research.google.com/assets/colab-badge.svg\" alt=\"Open In Colab\"/></a>"
      ]
    },
    {
      "cell_type": "code",
      "execution_count": null,
      "metadata": {
        "id": "yUmry6RKRMa_"
      },
      "outputs": [],
      "source": []
    },
    {
      "cell_type": "markdown",
      "source": [
        "In a fictional country named Lowtaxland, the income tax is 5%. In another fictional country, Ripoffland, the income tax is 43%. You are given a sample variable named income with a value of 250,000.\n",
        "\n",
        "1. Create two additional variables: lowtaxland_rate with the value of 0.05 (which is the same as 5%) and ripoffland_rate with the value of 0.43 (which is the same as 43%).\n",
        "\n",
        "2. Print to the output the following (all output on a single line):\n",
        "\n",
        "Your income is {income} and you would pay {tax amount in Lowtaxland} income tax in Lowtaxland or {tax amount in Ripoffland} income tax in Ripoffland. You would save {difference between the tax amounts} by paying taxes in Lowtaxland!\n",
        "\n",
        "Your solution must replace the curly brackets (e.g. {income}) with the actual values (e.g. 250000). The values must be calculated correctly. The tax amount should be calculated as {income * lowtaxland_rate} for Lowtaxland, and {income * ripoffland_rate} for Ripoffland, respectively."
      ],
      "metadata": {
        "id": "PtTeulvlRkQN"
      }
    },
    {
      "cell_type": "code",
      "source": [
        "income = 250000\n",
        "lowtaxland_rate = 0.05\n",
        "ripoffland_rate = 0.43\n",
        "\n",
        "print(f\"Your income is {income} and you pay {income * lowtaxland_rate} income tax in Lowtaxland or {income * ripoffland_rate} income tax in Ripoffland. You would save {income * ripoffland_rate - income * lowtaxland_rate} by paying taxes in Lowtaxland!\")"
      ],
      "metadata": {
        "colab": {
          "base_uri": "https://localhost:8080/"
        },
        "id": "-LrI7Sr2RmdM",
        "outputId": "41813358-a2bb-414c-fc78-88def5d5da78"
      },
      "execution_count": null,
      "outputs": [
        {
          "output_type": "stream",
          "name": "stdout",
          "text": [
            "Your income is 250000 and you pay 12500.0 income tax in Lowtaxland or 112500.0 income tax in Ripoffland. You would save 100000.0 by paying taxes in Lowtaxland!\n"
          ]
        }
      ]
    }
  ]
}